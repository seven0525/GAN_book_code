{
 "cells": [
  {
   "cell_type": "markdown",
   "metadata": {},
   "source": [
    "# 準備"
   ]
  },
  {
   "cell_type": "code",
   "execution_count": null,
   "metadata": {},
   "outputs": [],
   "source": [
    "%matplotlib inline\n",
    "%tensorflow_version 1.x\n",
    "\n",
    "from google.colab import drive \n",
    "drive.mount('/content/drive')"
   ]
  },
  {
   "cell_type": "code",
   "execution_count": null,
   "metadata": {},
   "outputs": [],
   "source": [
    "import matplotlib.pyplot as plt\n",
    "import numpy as np\n",
    "\n",
    "from keras.datasets import mnist\n",
    "from keras.layers import (Activation, BatchNormalization, Concatenate, Dense,\n",
    "                          Embedding, Flatten, Input, Multiply, Reshape)\n",
    "from keras.layers.advanced_activations import LeakyReLU\n",
    "from keras.layers.convolutional import Conv2D, Conv2DTranspose\n",
    "from keras.models import Model, Sequential\n",
    "from keras.optimizers import Adam"
   ]
  },
  {
   "cell_type": "markdown",
   "metadata": {},
   "source": [
    "# モデルの定義"
   ]
  },
  {
   "cell_type": "code",
   "execution_count": null,
   "metadata": {},
   "outputs": [],
   "source": [
    "# モデルの入力\n",
    "img_rows = 28\n",
    "img_cols = 28\n",
    "channels = 1\n",
    "\n",
    "img_shape = (img_rows, img_cols, channels) # 入力画像の次元\n",
    "z_dim = 100\n",
    "num_classes = 10 # データセットに含まれるクラスの数"
   ]
  },
  {
   "cell_type": "code",
   "execution_count": null,
   "metadata": {},
   "outputs": [],
   "source": [
    "# -----------------------\n",
    "# Gモデルの定義部分\n",
    "# -----------------------\n",
    "def build_generator(z_dim):\n",
    "    model = Sequential()\n",
    "\n",
    "    model.add(Dense(256 * 7 * 7, input_dim=z_dim))\n",
    "    model.add(Reshape((7, 7, 256)))\n",
    "\n",
    "    model.add(Conv2DTranspose(128, kernel_size=3, strides=2, padding='same'))\n",
    "    model.add(BatchNormalization())\n",
    "    model.add(LeakyReLU(alpha=0.01))\n",
    "\n",
    "    model.add(Conv2DTranspose(64, kernel_size=3, strides=1, padding='same'))\n",
    "    model.add(BatchNormalization())\n",
    "    model.add(LeakyReLU(alpha=0.01))\n",
    "\n",
    "    model.add(Conv2DTranspose(1, kernel_size=3, strides=2, padding='same'))\n",
    "\n",
    "    model.add(Activation('tanh'))\n",
    "\n",
    "    return model"
   ]
  },
  {
   "cell_type": "code",
   "execution_count": null,
   "metadata": {},
   "outputs": [],
   "source": [
    "def build_cgan_generator(z_dim):\n",
    "    z = Input(shape=(z_dim, ))\n",
    "\n",
    "    # Conditioning label: integer 0-9 specifying the number G should generate\n",
    "    label = Input(shape=(1, ), dtype='int32')\n",
    "\n",
    "    # Label embedding:\n",
    "    # ----------------\n",
    "    # Turns labels into dense vectors of size z_dim\n",
    "    # Produces 3D tensor with shape (batch_size, 1, z_dim)\n",
    "    label_embedding = Embedding(num_classes, z_dim, input_length=1)(label)\n",
    "\n",
    "    # Flatten the embedding 3D tensor into 2D tensor with shape (batch_size, z_dim)\n",
    "    label_embedding = Flatten()(label_embedding)\n",
    "\n",
    "    # Element-wise product of the vectors z and the label embeddings\n",
    "    joined_representation = Multiply()([z, label_embedding])\n",
    "\n",
    "    generator = build_generator(z_dim)\n",
    "\n",
    "    # Generate image for the given label\n",
    "    conditioned_img = generator(joined_representation)\n",
    "\n",
    "    return Model([z, label], conditioned_img)"
   ]
  },
  {
   "cell_type": "code",
   "execution_count": null,
   "metadata": {},
   "outputs": [],
   "source": [
    "# -----------------------\n",
    "# Dモデルの定義部分\n",
    "# -----------------------\n",
    "def build_discriminator(img_shape):\n",
    "    model = Sequential()\n",
    "\n",
    "    model.add(Conv2D(64,kernel_size=3,strides=2,\n",
    "               input_shape=(img_shape[0], img_shape[1], img_shape[2] + 1),\n",
    "               padding='same'))\n",
    "    model.add(LeakyReLU(alpha=0.01))\n",
    "\n",
    "    model.add(Conv2D(64,kernel_size=3,strides=2,\n",
    "               input_shape=img_shape,\n",
    "               padding='same'))\n",
    "    model.add(BatchNormalization())\n",
    "    model.add(LeakyReLU(alpha=0.01))\n",
    "\n",
    "    model.add(Conv2D(128,kernel_size=3,strides=2,\n",
    "               input_shape=img_shape,\n",
    "               padding='same'))\n",
    "    model.add(BatchNormalization())\n",
    "    model.add(LeakyReLU(alpha=0.01))\n",
    "\n",
    "    model.add(Flatten())\n",
    "    model.add(Dense(1, activation='sigmoid'))\n",
    "\n",
    "    return model"
   ]
  },
  {
   "cell_type": "code",
   "execution_count": null,
   "metadata": {},
   "outputs": [],
   "source": [
    "def build_cgan_discriminator(img_shape):\n",
    "    img = Input(shape=img_shape)\n",
    "\n",
    "    label = Input(shape=(1, ), dtype='int32') # 入力画像に対するラベル\n",
    "\n",
    "    # ラベル埋め込み:\n",
    "    # ----------------\n",
    "    # ラベルをz_dim次元の蜜ベクトルに変換：\n",
    "    # （batch_size, 1, 28x28x1）の形の3Dテンソルを生成\n",
    "    label_embedding = Embedding(num_classes,np.prod(img_shape),input_length=1)(label)\n",
    "\n",
    "    # 埋め込みを行なった3Dテンソルを2Dテンソルへと平坦化（batch_size, 28x28x1)\n",
    "    label_embedding = Flatten()(label_embedding)\n",
    "\n",
    "    # ラベル埋め込みを、入力画像と同じ形に変換する\n",
    "    label_embedding = Reshape(img_shape)(label_embedding)\n",
    "\n",
    "    # 画像にラベル埋め込みを結合する\n",
    "    concatenated = Concatenate(axis=-1)([img, label_embedding])\n",
    "\n",
    "    discriminator = build_discriminator(img_shape)\n",
    "\n",
    "    # 画像ーラベルのペアを分類する\n",
    "    classification = discriminator(concatenated)\n",
    "\n",
    "    return Model([img, label], classification)"
   ]
  },
  {
   "cell_type": "code",
   "execution_count": null,
   "metadata": {},
   "outputs": [],
   "source": [
    "# CGANモデルの構築と合併関数\n",
    "def build_cgan(generator, discriminator):\n",
    "    z = Input(shape=(z_dim, ))\n",
    "\n",
    "    label = Input(shape=(1, )) # 画像のラベル\n",
    "\n",
    "    img = generator([z, label])#そのラベルに対して生成された画像\n",
    "\n",
    "    classification = discriminator([img, label])\n",
    "\n",
    "    # Gモデル→Dモデルと繋がる結合モデル（G([z, lablel]) = x*、　D(x*) = 分類結果）\n",
    "    model = Model([z, label], classification)\n",
    "\n",
    "    return model"
   ]
  },
  {
   "cell_type": "code",
   "execution_count": null,
   "metadata": {},
   "outputs": [],
   "source": [
    "#Dモデルの構築\n",
    "discriminator = build_cgan_discriminator(img_shape)\n",
    "discriminator.compile(loss='binary_crossentropy',optimizer=Adam(),metrics=['accuracy'])\n",
    "\n",
    "#Gモデルの構築\n",
    "generator = build_cgan_generator(z_dim)\n",
    "discriminator.trainable = False\n",
    "cgan = build_cgan(generator, discriminator)\n",
    "cgan.compile(loss='binary_crossentropy', optimizer=Adam())"
   ]
  },
  {
   "cell_type": "markdown",
   "metadata": {},
   "source": [
    "# モデルの学習"
   ]
  },
  {
   "cell_type": "code",
   "execution_count": null,
   "metadata": {},
   "outputs": [],
   "source": [
    "# ラベルごとに学習した画像の個数をカウントする\n",
    "nums_dict = {0:0,1:0,2:0,3:0,4:0,5:0,6:0,7:0,8:0,9:0,}"
   ]
  },
  {
   "cell_type": "code",
   "execution_count": null,
   "metadata": {},
   "outputs": [],
   "source": [
    "accuracies = []\n",
    "losses = []\n",
    "\n",
    "def train(iterations, batch_size, sample_interval):\n",
    "    (X_train, y_train), (_, _) = mnist.load_data() \n",
    "    half_batch = int(batch_size / 2)\n",
    "\n",
    "    X_train = X_train / 127.5 - 1.\n",
    "    X_train = np.expand_dims(X_train, axis=3)\n",
    "\n",
    "    real = np.ones((half_batch, 1))\n",
    "    fake = np.zeros((half_batch, 1))\n",
    "\n",
    "    \n",
    "\n",
    "    for iteration in range(iterations):\n",
    "\n",
    "        # -------------------------\n",
    "        #  Dモデルの訓練\n",
    "        # -------------------------\n",
    "        # 本物の画像とラベルのペアを生成\n",
    "        idx = np.random.randint(0, X_train.shape[0], half_batch)\n",
    "        imgs, labels = X_train[idx], y_train[idx]\n",
    "        for label in labels:\n",
    "            # num = label.tolist()[0]\n",
    "            nums_dict[label] += 1\n",
    "\n",
    "        # 偽の画像を生成\n",
    "        z = np.random.normal(0, 1, (half_batch, z_dim))\n",
    "        gen_imgs = generator.predict([z, labels])\n",
    "\n",
    "        # Dモデルを訓練\n",
    "        d_loss_real = discriminator.train_on_batch([imgs, labels], real)\n",
    "        d_loss_fake = discriminator.train_on_batch([gen_imgs, labels], fake)\n",
    "        d_loss = 0.5 * np.add(d_loss_real, d_loss_fake)\n",
    "\n",
    "        # ---------------------\n",
    "        #  Gモデルの訓練\n",
    "        # ---------------------\n",
    "        z = np.random.normal(0, 1, (half_batch, z_dim))#ランダムなノイズを生成\n",
    "        labels = np.random.randint(0, num_classes, half_batch).reshape(-1, 1)#ランダムなラベルを生成\n",
    "\n",
    "        g_loss = cgan.train_on_batch([z, labels], real)#Gモデルを訓練\n",
    "\n",
    "        if (iteration + 1) % sample_interval == 0:\n",
    "            print(\"%d [D loss: %f, acc.: %.2f%%] [G loss: %f]\" %\n",
    "                  (iteration + 1, d_loss[0], 100 * d_loss[1], g_loss))\n",
    "            losses.append((d_loss[0], g_loss))\n",
    "            accuracies.append(100 * d_loss[1])\n",
    "            sample_images()"
   ]
  },
  {
   "cell_type": "code",
   "execution_count": null,
   "metadata": {},
   "outputs": [],
   "source": [
    "def sample_images(image_grid_rows=2, image_grid_columns=5):\n",
    "\n",
    "    # Sample random noise\n",
    "    z = np.random.normal(0, 1, (image_grid_rows * image_grid_columns, z_dim))\n",
    "\n",
    "    # Get image labels 0-9\n",
    "    labels = np.arange(0, 10).reshape(-1, 1)\n",
    "\n",
    "    # Generate images from random noise\n",
    "    gen_imgs = generator.predict([z, labels])\n",
    "\n",
    "    # Rescale image pixel values to [0, 1]\n",
    "    gen_imgs = 0.5 * gen_imgs + 0.5\n",
    "\n",
    "    # Set image grid\n",
    "    fig, axs = plt.subplots(image_grid_rows,\n",
    "                            image_grid_columns,\n",
    "                            figsize=(10, 4),\n",
    "                            sharey=True,\n",
    "                            sharex=True)\n",
    "\n",
    "    cnt = 0\n",
    "    for i in range(image_grid_rows):\n",
    "        for j in range(image_grid_columns):\n",
    "            # Output a grid of images\n",
    "            axs[i, j].imshow(gen_imgs[cnt, :, :, 0], cmap='gray')\n",
    "            axs[i, j].axis('off')\n",
    "            axs[i, j].set_title(\"Digit: %d\" % labels[cnt])\n",
    "            cnt += 1"
   ]
  },
  {
   "cell_type": "code",
   "execution_count": null,
   "metadata": {},
   "outputs": [],
   "source": [
    "# Set hyperparameters\n",
    "iterations = 5000\n",
    "batch_size = 100\n",
    "sample_interval = 100\n",
    "\n",
    "# Train the CGAN for the specified number of iterations\n",
    "train(iterations, batch_size, sample_interval)"
   ]
  },
  {
   "cell_type": "code",
   "execution_count": null,
   "metadata": {},
   "outputs": [],
   "source": [
    "# それぞれの数字の画像がどれくらい学習に使われたか見る\n",
    "print(nums_dict)"
   ]
  },
  {
   "cell_type": "markdown",
   "metadata": {},
   "source": [
    "# 時間の測定"
   ]
  },
  {
   "cell_type": "code",
   "execution_count": null,
   "metadata": {},
   "outputs": [],
   "source": [
    "#時間チェック\n",
    "# 10エポックにかかる学習時間を調べる\n",
    "import time\n",
    "\n",
    "iterations = 10\n",
    "batch_size = 100\n",
    "sample_interval = 100\n",
    "\n",
    "t1 = time.time() \n",
    "train(iterations, batch_size, sample_interval)\n",
    "t2 = time.time()\n",
    "\n",
    "# 経過時間を表示\n",
    "elapsed_time = t2-t1\n",
    "print(f\"経過時間：{elapsed_time}\")"
   ]
  },
  {
   "cell_type": "markdown",
   "metadata": {},
   "source": [
    "# 目標のクラスの画像のみを生成"
   ]
  },
  {
   "cell_type": "code",
   "execution_count": null,
   "metadata": {},
   "outputs": [],
   "source": [
    "image_grid_rows = 10\n",
    "image_grid_columns = 5\n",
    "\n",
    "# ランダムノイズを生成\n",
    "z = np.random.normal(0, 1, (image_grid_rows * image_grid_columns, z_dim))\n",
    "\n",
    "# 生成する画像の数を設定\n",
    "labels_to_generate = np.array([[i for j in range(5)] for i in range(10)])\n",
    "labels_to_generate = labels_to_generate.flatten().reshape(-1, 1)\n",
    "\n",
    "# 画像を生成\n",
    "gen_imgs = generator.predict([z, labels_to_generate])\n",
    "\n",
    "# ピクセル値を正の値に変換\n",
    "gen_imgs = 0.5 * gen_imgs + 0.5\n",
    "\n",
    "fig, axs = plt.subplots(image_grid_rows,\n",
    "                        image_grid_columns,\n",
    "                        figsize=(10, 20),\n",
    "                        sharey=True,\n",
    "                        sharex=True)\n",
    "\n",
    "cnt = 0\n",
    "for i in range(image_grid_rows):\n",
    "    for j in range(image_grid_columns):\n",
    "        axs[i, j].imshow(gen_imgs[cnt, :, :, 0], cmap='gray')\n",
    "        axs[i, j].axis('off')\n",
    "        axs[i, j].set_title(\"Digit: %d\" % labels_to_generate[cnt])\n",
    "        cnt += 1"
   ]
  },
  {
   "cell_type": "code",
   "execution_count": null,
   "metadata": {},
   "outputs": [],
   "source": []
  },
  {
   "cell_type": "code",
   "execution_count": 0,
   "metadata": {
    "colab": {},
    "colab_type": "code",
    "id": "F95Np3XyQIZ1"
   },
   "outputs": [],
   "source": []
  }
 ],
 "metadata": {
  "accelerator": "GPU",
  "colab": {
   "collapsed_sections": [],
   "name": "CGAN.ipynb",
   "provenance": []
  },
  "kernelspec": {
   "display_name": "Python 3",
   "language": "python",
   "name": "python3"
  },
  "language_info": {
   "codemirror_mode": {
    "name": "ipython",
    "version": 3
   },
   "file_extension": ".py",
   "mimetype": "text/x-python",
   "name": "python",
   "nbconvert_exporter": "python",
   "pygments_lexer": "ipython3",
   "version": "3.7.4"
  }
 },
 "nbformat": 4,
 "nbformat_minor": 1
}
